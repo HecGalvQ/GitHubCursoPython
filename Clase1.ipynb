{
 "cells": [
  {
   "cell_type": "markdown",
   "metadata": {},
   "source": [
    "CLASE1\n"
   ]
  },
  {
   "cell_type": "code",
   "execution_count": null,
   "metadata": {},
   "outputs": [],
   "source": [
    "print(\"Hola Mundo\")"
   ]
  },
  {
   "cell_type": "code",
   "execution_count": null,
   "metadata": {},
   "outputs": [],
   "source": [
    "mi_nombre = \"Hector\"\n",
    "print(mi_nombre)"
   ]
  },
  {
   "cell_type": "code",
   "execution_count": null,
   "metadata": {},
   "outputs": [],
   "source": [
    "Numero1 = 1\n",
    "Numero2 = 50\n",
    "Numero3 = 777\n",
    "Suma = Numero1 + Numero3\n",
    "print(Suma)\n",
    "Resta = Numero2 - Numero1\n",
    "print(Resta)\n",
    "Division = Numero3 / Numero2\n",
    "print (Division)\n",
    "Multiplicacion = Numero2 * Numero3\n",
    "print(Multiplicacion)\n"
   ]
  },
  {
   "cell_type": "markdown",
   "metadata": {},
   "source": [
    "FORMAT\n"
   ]
  },
  {
   "cell_type": "code",
   "execution_count": null,
   "metadata": {},
   "outputs": [],
   "source": [
    "Valor1 = 25\n",
    "Valor2 = 33\n",
    "suma = Valor1 + Valor2\n",
    "print(f\"La suma de {Valor1} y {Valor2} es {suma}\" )"
   ]
  },
  {
   "cell_type": "markdown",
   "metadata": {},
   "source": [
    "CONDICIONALES\n"
   ]
  },
  {
   "cell_type": "code",
   "execution_count": null,
   "metadata": {},
   "outputs": [],
   "source": [
    "if 5 > 3:\n",
    "   print(\"Es mayor\")\n",
    "\n",
    "if 45 > 55:\n",
    "   print(\"Es mayor\") \n",
    "else:\n",
    "    print(\"Es menor\")    "
   ]
  },
  {
   "cell_type": "code",
   "execution_count": null,
   "metadata": {},
   "outputs": [],
   "source": []
  }
 ],
 "metadata": {
  "kernelspec": {
   "display_name": "Python 3.11.0 64-bit",
   "language": "python",
   "name": "python3"
  },
  "language_info": {
   "name": "python",
   "version": "3.11.0"
  },
  "orig_nbformat": 4,
  "vscode": {
   "interpreter": {
    "hash": "d0b0d470750e1013c9083f2a28c2683bb3fb49a3c85ba1077d769f506e363ffc"
   }
  }
 },
 "nbformat": 4,
 "nbformat_minor": 2
}
