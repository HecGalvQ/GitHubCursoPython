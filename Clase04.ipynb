{
 "cells": [
  {
   "attachments": {},
   "cell_type": "markdown",
   "metadata": {},
   "source": [
    "# Clase 4"
   ]
  },
  {
   "attachments": {},
   "cell_type": "markdown",
   "metadata": {},
   "source": [
    "## Funciones\n"
   ]
  },
  {
   "cell_type": "code",
   "execution_count": 1,
   "metadata": {},
   "outputs": [
    {
     "data": {
      "text/plain": [
       "18"
      ]
     },
     "execution_count": 1,
     "metadata": {},
     "output_type": "execute_result"
    }
   ],
   "source": [
    "def sumar(a,b):\n",
    "    resultado = a+b\n",
    "    return resultado\n",
    "\n",
    "sumar(8,10)"
   ]
  },
  {
   "attachments": {},
   "cell_type": "markdown",
   "metadata": {},
   "source": [
    "## Documentar"
   ]
  },
  {
   "cell_type": "code",
   "execution_count": 3,
   "metadata": {},
   "outputs": [],
   "source": [
    "def sumar(a,b):\n",
    "\n",
    "    \"\"\" Funcion para sumar 2 numeros\n",
    "    ## Parametros\n",
    "    a,b: valores enteros\n",
    "    ## Return\n",
    "    regresa el valor de la suma de a y b\n",
    "\n",
    "    \"\"\"\n",
    "\n",
    "    resultado = a+b\n",
    "    return resultado"
   ]
  },
  {
   "cell_type": "code",
   "execution_count": 3,
   "metadata": {},
   "outputs": [],
   "source": [
    "def conversion(d):\n",
    "    \"\"\" Funcion para convertir dolares a pesos\n",
    "    ## Parametros\n",
    "    d: valores enteros o flotantes\n",
    "    ## Return \n",
    "    Regresa el valor de los dolares en pesos mexicanos\n",
    "    \n",
    "    \"\"\"\n",
    "    resultado = d * 19.76\n",
    "    return resultado"
   ]
  },
  {
   "cell_type": "code",
   "execution_count": 4,
   "metadata": {},
   "outputs": [
    {
     "data": {
      "text/plain": [
       "395.20000000000005"
      ]
     },
     "execution_count": 4,
     "metadata": {},
     "output_type": "execute_result"
    }
   ],
   "source": [
    "conversion(20)"
   ]
  },
  {
   "cell_type": "code",
   "execution_count": 5,
   "metadata": {},
   "outputs": [],
   "source": [
    "\n",
    "\n",
    "def promedio(list):\n",
    "    \"\"\" Funcion para sacar el promedio\n",
    "    ## Parametros\n",
    "        una lista(list): numeros enteros o flotantes\n",
    "    ## Return\n",
    "        regresa el promedio de la lista\n",
    "\n",
    "    \"\"\"\n",
    "    suma = sum(list)\n",
    "    long = len(list)\n",
    "    prom = suma/long \n",
    "    return prom\n",
    "\n"
   ]
  },
  {
   "cell_type": "code",
   "execution_count": 6,
   "metadata": {},
   "outputs": [
    {
     "data": {
      "text/plain": [
       "8.8"
      ]
     },
     "execution_count": 6,
     "metadata": {},
     "output_type": "execute_result"
    }
   ],
   "source": [
    "\n",
    "calificaciones=[7,8,10,9,10]\n",
    "promedio(calificaciones)\n"
   ]
  },
  {
   "cell_type": "code",
   "execution_count": null,
   "metadata": {},
   "outputs": [],
   "source": []
  }
 ],
 "metadata": {
  "kernelspec": {
   "display_name": "Python 3",
   "language": "python",
   "name": "python3"
  },
  "language_info": {
   "codemirror_mode": {
    "name": "ipython",
    "version": 3
   },
   "file_extension": ".py",
   "mimetype": "text/x-python",
   "name": "python",
   "nbconvert_exporter": "python",
   "pygments_lexer": "ipython3",
   "version": "3.11.0"
  },
  "orig_nbformat": 4,
  "vscode": {
   "interpreter": {
    "hash": "d0b0d470750e1013c9083f2a28c2683bb3fb49a3c85ba1077d769f506e363ffc"
   }
  }
 },
 "nbformat": 4,
 "nbformat_minor": 2
}
