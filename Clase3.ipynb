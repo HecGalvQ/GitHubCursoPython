{
 "cells": [
  {
   "cell_type": "markdown",
   "metadata": {},
   "source": [
    "CLASE 3\n",
    "-Ciclo While"
   ]
  },
  {
   "cell_type": "code",
   "execution_count": 1,
   "metadata": {},
   "outputs": [
    {
     "name": "stdout",
     "output_type": "stream",
     "text": [
      "Se cumple\n",
      "Se cumple\n",
      "Se cumple\n",
      "Se cumple\n",
      "Se cumple\n",
      "Se cumple\n"
     ]
    }
   ],
   "source": [
    "contador = 0\n",
    "while contador <=5:\n",
    "    print(\"Se cumple\")\n",
    "    contador += 1 "
   ]
  },
  {
   "cell_type": "code",
   "execution_count": 2,
   "metadata": {},
   "outputs": [
    {
     "name": "stdout",
     "output_type": "stream",
     "text": [
      "Usuario registrado\n"
     ]
    }
   ],
   "source": [
    "auth = 0\n",
    "username = input (\"¿Cual es tu nombre?\")\n",
    "\n",
    "while auth ==0:\n",
    "  \n",
    "    password = input (\"Escribe una contraseña\")\n",
    "    if len(password) < 6:\n",
    "        print(\"Necesitas crear una contraseña con mas de 6 digitos\")\n",
    "    else:\n",
    "        print(\"Usuario registrado\")\n",
    "        auth = 1"
   ]
  },
  {
   "cell_type": "markdown",
   "metadata": {},
   "source": [
    "CICLOS FOR\n",
    "\n",
    "-- FOR DE RANGOS\n",
    "Define cuantas veces se repite]"
   ]
  },
  {
   "cell_type": "code",
   "execution_count": 3,
   "metadata": {},
   "outputs": [
    {
     "name": "stdout",
     "output_type": "stream",
     "text": [
      "0\n",
      "1\n",
      "2\n",
      "3\n",
      "4\n",
      "5\n",
      "6\n"
     ]
    }
   ],
   "source": [
    "for i in range(7):\n",
    "    print (i)"
   ]
  },
  {
   "cell_type": "code",
   "execution_count": 4,
   "metadata": {},
   "outputs": [
    {
     "name": "stdout",
     "output_type": "stream",
     "text": [
      "6\n",
      "9\n",
      "12\n",
      "15\n",
      "18\n"
     ]
    }
   ],
   "source": [
    "for i in range(6,20,3):\n",
    "    print(i)"
   ]
  },
  {
   "cell_type": "markdown",
   "metadata": {},
   "source": [
    "ACTIVIDAD 5"
   ]
  },
  {
   "cell_type": "code",
   "execution_count": 5,
   "metadata": {},
   "outputs": [
    {
     "name": "stdout",
     "output_type": "stream",
     "text": [
      "0\n",
      "1\n",
      "2\n",
      "3\n",
      "4\n",
      "5\n",
      "6\n"
     ]
    }
   ],
   "source": [
    "n = int(input (\"¿Cuantas veces se repetirá?\"))\n",
    "\n",
    "for i in range(n):\n",
    "    print(i)"
   ]
  },
  {
   "cell_type": "markdown",
   "metadata": {},
   "source": [
    "FOR y Listas "
   ]
  },
  {
   "cell_type": "code",
   "execution_count": 6,
   "metadata": {},
   "outputs": [
    {
     "name": "stdout",
     "output_type": "stream",
     "text": [
      "[0, 1, 4, 9, 16, 25, 36, 49, 64, 81]\n"
     ]
    }
   ],
   "source": [
    "numerosCuadrado = []\n",
    "\n",
    "for i in range(10):\n",
    "    numerosCuadrado.append(i**2)\n",
    "print(numerosCuadrado)"
   ]
  },
  {
   "cell_type": "code",
   "execution_count": 7,
   "metadata": {},
   "outputs": [
    {
     "name": "stdout",
     "output_type": "stream",
     "text": [
      "Manzana\n",
      "Pera\n",
      "Guayaba\n",
      "Mandarina\n"
     ]
    }
   ],
   "source": [
    "misFrutas = [\"Manzana\", \"Pera\", \"Guayaba\", \"Mandarina\"]\n",
    "\n",
    "for i in range(4):\n",
    "    print(misFrutas[i])"
   ]
  },
  {
   "cell_type": "code",
   "execution_count": 8,
   "metadata": {},
   "outputs": [
    {
     "name": "stdout",
     "output_type": "stream",
     "text": [
      "Manzana\n",
      "Pera\n",
      "Guayaba\n",
      "Mandarina\n"
     ]
    }
   ],
   "source": [
    "for e in misFrutas:\n",
    "    print(e)"
   ]
  },
  {
   "cell_type": "markdown",
   "metadata": {},
   "source": [
    "ACTIVIDAD 6"
   ]
  },
  {
   "cell_type": "code",
   "execution_count": 9,
   "metadata": {},
   "outputs": [
    {
     "name": "stdout",
     "output_type": "stream",
     "text": [
      "Aprobado :))) \n"
     ]
    }
   ],
   "source": [
    "num = int(input(\"¿Cuantas calificaciones va a agregar?\"))\n",
    "calificaciones=[]\n",
    "for i in range(num):\n",
    "    calificacion = int(input(\"Agregue calificacion\"))\n",
    "    calificaciones.append(calificacion) \n",
    "promedio = sum(calificaciones)/num\n",
    "if(promedio>=6):\n",
    "    print (\"Aprobado :))) \")\n",
    "else:\n",
    "    print(\"Reprobado ):\")"
   ]
  },
  {
   "cell_type": "code",
   "execution_count": null,
   "metadata": {},
   "outputs": [],
   "source": []
  }
 ],
 "metadata": {
  "kernelspec": {
   "display_name": "Python 3.11.0 64-bit",
   "language": "python",
   "name": "python3"
  },
  "language_info": {
   "codemirror_mode": {
    "name": "ipython",
    "version": 3
   },
   "file_extension": ".py",
   "mimetype": "text/x-python",
   "name": "python",
   "nbconvert_exporter": "python",
   "pygments_lexer": "ipython3",
   "version": "3.11.0"
  },
  "orig_nbformat": 4,
  "vscode": {
   "interpreter": {
    "hash": "d0b0d470750e1013c9083f2a28c2683bb3fb49a3c85ba1077d769f506e363ffc"
   }
  }
 },
 "nbformat": 4,
 "nbformat_minor": 2
}
