{
 "cells": [
  {
   "cell_type": "markdown",
   "metadata": {},
   "source": [
    "CLASE2\n"
   ]
  },
  {
   "cell_type": "markdown",
   "metadata": {},
   "source": [
    "Encontrar el Numero más grande"
   ]
  },
  {
   "cell_type": "code",
   "execution_count": 1,
   "metadata": {},
   "outputs": [
    {
     "name": "stdout",
     "output_type": "stream",
     "text": [
      "El numero 8 es mas grande que el numero 6\n"
     ]
    }
   ],
   "source": [
    "numero1 = int(input(\"Dame un valor\"))\n",
    "numero2 = int(input(\"Dame otro valor\"))\n",
    "if numero1>numero2:\n",
    "    print(f'El numero {numero1} es mas grande  que el numero {numero2}')\n",
    "elif numero2 > numero1:\n",
    "        print(f'El numero {numero2} es mas grande que el numero {numero1}')\n",
    "else: \n",
    "    print(\"Ambos son iguales\")"
   ]
  },
  {
   "cell_type": "markdown",
   "metadata": {},
   "source": [
    "LISTAS"
   ]
  },
  {
   "cell_type": "code",
   "execution_count": 9,
   "metadata": {},
   "outputs": [
    {
     "name": "stdout",
     "output_type": "stream",
     "text": [
      "['Fresa', 'Kiwi', 'Mango', 'Guayaba']\n"
     ]
    }
   ],
   "source": [
    "misFrutas = [\"Fresa\", \"Kiwi\", \"Mango\", \"Guayaba\"]\n",
    "print(misFrutas)"
   ]
  },
  {
   "cell_type": "code",
   "execution_count": 10,
   "metadata": {},
   "outputs": [
    {
     "name": "stdout",
     "output_type": "stream",
     "text": [
      "Kiwi\n"
     ]
    }
   ],
   "source": [
    "print(misFrutas[1])"
   ]
  },
  {
   "cell_type": "markdown",
   "metadata": {},
   "source": [
    "METODOS DE LISTAS"
   ]
  },
  {
   "cell_type": "code",
   "execution_count": 12,
   "metadata": {},
   "outputs": [
    {
     "name": "stdout",
     "output_type": "stream",
     "text": [
      "['Fresa', 'Kiwi', 'Mango', 'Guayaba', 'Kiwi', 'Sandia']\n"
     ]
    }
   ],
   "source": [
    "misFrutas.append('Sandia')\n",
    "print(misFrutas)"
   ]
  },
  {
   "cell_type": "markdown",
   "metadata": {},
   "source": [
    "SLICE \n",
    "Corta la lista y obtener los elementos de ese corte"
   ]
  },
  {
   "cell_type": "code",
   "execution_count": 13,
   "metadata": {},
   "outputs": [
    {
     "data": {
      "text/plain": [
       "['Mango', 'Guayaba']"
      ]
     },
     "execution_count": 13,
     "metadata": {},
     "output_type": "execute_result"
    }
   ],
   "source": [
    "misFrutas[2:4]"
   ]
  },
  {
   "cell_type": "markdown",
   "metadata": {},
   "source": [
    "Slice a TEXTO"
   ]
  },
  {
   "cell_type": "code",
   "execution_count": 14,
   "metadata": {},
   "outputs": [
    {
     "data": {
      "text/plain": [
       "'ri'"
      ]
     },
     "execution_count": 14,
     "metadata": {},
     "output_type": "execute_result"
    }
   ],
   "source": [
    "palabra = \"erizo\"\n",
    "palabra[1:3]\n"
   ]
  },
  {
   "cell_type": "markdown",
   "metadata": {},
   "source": [
    "SORT \n",
    "Ordena los elementos"
   ]
  },
  {
   "cell_type": "code",
   "execution_count": 17,
   "metadata": {},
   "outputs": [
    {
     "name": "stdout",
     "output_type": "stream",
     "text": [
      "[0, 1, 2, 4, 4, 4, 5, 10, 44, 77]\n"
     ]
    }
   ],
   "source": [
    "MisNumeros = [1,0,2,4,4,4,77,44,5,10]\n",
    "MisNumeros.sort()\n",
    "print(MisNumeros)"
   ]
  },
  {
   "cell_type": "code",
   "execution_count": 18,
   "metadata": {},
   "outputs": [
    {
     "name": "stdout",
     "output_type": "stream",
     "text": [
      "[77, 44, 10, 5, 4, 4, 4, 2, 1, 0]\n"
     ]
    }
   ],
   "source": [
    "MisNumeros.sort(reverse=True)\n",
    "print(MisNumeros)"
   ]
  },
  {
   "cell_type": "markdown",
   "metadata": {},
   "source": [
    "COUNT da el numero de elementos repetidos y SUM suma los elementos"
   ]
  },
  {
   "cell_type": "code",
   "execution_count": 19,
   "metadata": {},
   "outputs": [
    {
     "data": {
      "text/plain": [
       "3"
      ]
     },
     "execution_count": 19,
     "metadata": {},
     "output_type": "execute_result"
    }
   ],
   "source": [
    "MisNumeros.count(4)"
   ]
  },
  {
   "cell_type": "code",
   "execution_count": 20,
   "metadata": {},
   "outputs": [
    {
     "data": {
      "text/plain": [
       "151"
      ]
     },
     "execution_count": 20,
     "metadata": {},
     "output_type": "execute_result"
    }
   ],
   "source": [
    "sum(MisNumeros)"
   ]
  }
 ],
 "metadata": {
  "kernelspec": {
   "display_name": "Python 3.11.0 64-bit",
   "language": "python",
   "name": "python3"
  },
  "language_info": {
   "codemirror_mode": {
    "name": "ipython",
    "version": 3
   },
   "file_extension": ".py",
   "mimetype": "text/x-python",
   "name": "python",
   "nbconvert_exporter": "python",
   "pygments_lexer": "ipython3",
   "version": "3.11.0"
  },
  "orig_nbformat": 4,
  "vscode": {
   "interpreter": {
    "hash": "d0b0d470750e1013c9083f2a28c2683bb3fb49a3c85ba1077d769f506e363ffc"
   }
  }
 },
 "nbformat": 4,
 "nbformat_minor": 2
}
